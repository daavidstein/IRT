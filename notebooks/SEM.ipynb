{
 "cells": [
  {
   "cell_type": "markdown",
   "id": "fe851f1a-e9f4-4e33-ba23-8afd8211fe46",
   "metadata": {},
   "source": [
    "https://www.statisticshowto.com/standard-error-of-measurement/\n",
    "reliability coefficient is  $$r_{xx} = \\frac{S^2_{\\text{True}}}{S^2_{\\text{Obs}}}$$"
   ]
  },
  {
   "cell_type": "markdown",
   "id": "877a7d41-40d4-4d34-924d-a94a8d29765b",
   "metadata": {},
   "source": [
    "SEm simulation"
   ]
  },
  {
   "cell_type": "markdown",
   "id": "cbd923f8-d0be-48ac-99d4-7e8288069518",
   "metadata": {},
   "source": [
    "https://us.humankinetics.com/blogs/excerpt/standard-error-of-measurement"
   ]
  },
  {
   "cell_type": "markdown",
   "id": "a2798ebd-5405-4a94-a13f-4fb7650f062a",
   "metadata": {},
   "source": [
    "Suppose a student's \"true\" score is 95/100. That means they should have 95% chance of answering a question correclty, on average. But because of randomness, and the error built into the test, they might on a given day score more or less than 95."
   ]
  },
  {
   "cell_type": "markdown",
   "id": "56bea678-fc23-444a-8d95-ddee7d57156d",
   "metadata": {},
   "source": [
    "Let's assume that a student has an equal chance of answering each of 100 questions correctly, but each student has a different such chance p."
   ]
  },
  {
   "cell_type": "markdown",
   "id": "6eecd58c-a7ab-4669-ba84-18df3a79642e",
   "metadata": {},
   "source": [
    "What is the SEM for this test?\n",
    "The variance of a bernoulli random variable is $\\text{Var}[X] =p(1-p)$"
   ]
  },
  {
   "cell_type": "code",
   "execution_count": 4,
   "id": "25fd6a91-b5e9-4af9-894f-4c219ff01c66",
   "metadata": {},
   "outputs": [],
   "source": [
    "import numpy as np\n",
    "scores = list()\n",
    "for i in range(0,101):\n",
    "    score = np.random.binomial(n=100,p= i/100)\n",
    "    scores.append(score)\n",
    "    "
   ]
  },
  {
   "cell_type": "code",
   "execution_count": 13,
   "id": "658212ac-cc70-4e13-95f7-de10247ed84d",
   "metadata": {},
   "outputs": [
    {
     "data": {
      "text/plain": [
       "886.7030683266347"
      ]
     },
     "execution_count": 13,
     "metadata": {},
     "output_type": "execute_result"
    }
   ],
   "source": [
    "var_obs = np.var(scores)\n",
    "var_obs"
   ]
  },
  {
   "cell_type": "code",
   "execution_count": 22,
   "id": "5376b364-fd14-405c-91e9-82af52c2baf4",
   "metadata": {},
   "outputs": [
    {
     "data": {
      "text/plain": [
       "850.0"
      ]
     },
     "execution_count": 22,
     "metadata": {},
     "output_type": "execute_result"
    }
   ],
   "source": [
    "true_scores = [i for i in range(0,101)]\n",
    "var_true = np.var(true_scores)\n",
    "var_true"
   ]
  },
  {
   "cell_type": "code",
   "execution_count": 16,
   "id": "c58ce877-251f-4133-87ca-fbbc63cc6eee",
   "metadata": {},
   "outputs": [
    {
     "data": {
      "text/plain": [
       "0.9586072613959712"
      ]
     },
     "execution_count": 16,
     "metadata": {},
     "output_type": "execute_result"
    }
   ],
   "source": [
    "reliability = var_true/var_obs\n",
    "reliability"
   ]
  },
  {
   "cell_type": "markdown",
   "id": "aa728556-f7ef-4380-bd58-62a9692593ad",
   "metadata": {},
   "source": [
    "There's a formula for SEM in terms of reliability coefficientL\n",
    "$SEm = s\\sqrt{(1-r)}$"
   ]
  },
  {
   "cell_type": "code",
   "execution_count": 18,
   "id": "8b5a8d66-51b5-4772-9de4-6ad88ba44f5a",
   "metadata": {},
   "outputs": [],
   "source": [
    "std = np.std(scores)"
   ]
  },
  {
   "cell_type": "code",
   "execution_count": 19,
   "id": "3c7b7e0f-7ad9-472b-b6b5-cabd5ff236de",
   "metadata": {},
   "outputs": [
    {
     "data": {
      "text/plain": [
       "29.777559811486142"
      ]
     },
     "execution_count": 19,
     "metadata": {},
     "output_type": "execute_result"
    }
   ],
   "source": [
    "std"
   ]
  },
  {
   "cell_type": "code",
   "execution_count": 21,
   "id": "6feaf3e1-3ce5-4d2a-8df7-65bd01871e02",
   "metadata": {},
   "outputs": [
    {
     "data": {
      "text/plain": [
       "6.058305730700183"
      ]
     },
     "execution_count": 21,
     "metadata": {},
     "output_type": "execute_result"
    }
   ],
   "source": [
    "SEm = std*np.sqrt(1-reliability)\n",
    "SEm"
   ]
  },
  {
   "cell_type": "markdown",
   "id": "c670c3a4-52b8-48f2-8e1f-9541e7bcdfd0",
   "metadata": {},
   "source": [
    "this doesn't seem right. it's way too high.  think about how the LSAT had a reliability of something like 0.8 and an SEM of 2.6. I think this issue is we need to use the std of true scores, not observed"
   ]
  },
  {
   "cell_type": "code",
   "execution_count": 23,
   "id": "02da3ca8-887a-432e-8679-e05f17390ad5",
   "metadata": {},
   "outputs": [
    {
     "data": {
      "text/plain": [
       "29.154759474226502"
      ]
     },
     "execution_count": 23,
     "metadata": {},
     "output_type": "execute_result"
    }
   ],
   "source": [
    "std_true = np.std(true_scores)\n",
    "std_true"
   ]
  },
  {
   "cell_type": "code",
   "execution_count": 24,
   "id": "843c3dcb-b7ae-4baf-b8d4-f686d6030f89",
   "metadata": {},
   "outputs": [
    {
     "data": {
      "text/plain": [
       "6.058305730700183"
      ]
     },
     "execution_count": 24,
     "metadata": {},
     "output_type": "execute_result"
    }
   ],
   "source": [
    "SEm = std*np.sqrt(1-reliability)\n",
    "SEm"
   ]
  },
  {
   "cell_type": "markdown",
   "id": "0ddd9e83-4638-472a-935f-1b7c3c184db8",
   "metadata": {},
   "source": [
    "So it's about the same. remember that the SEm is expressed in units of test score. this imaginary test has 100 points, the LSAT has only 60 possible scores."
   ]
  },
  {
   "cell_type": "code",
   "execution_count": null,
   "id": "ec3be007-d637-4e98-acd5-369d92fda061",
   "metadata": {},
   "outputs": [],
   "source": []
  }
 ],
 "metadata": {
  "kernelspec": {
   "display_name": "Python 3 (ipykernel)",
   "language": "python",
   "name": "python3"
  },
  "language_info": {
   "codemirror_mode": {
    "name": "ipython",
    "version": 3
   },
   "file_extension": ".py",
   "mimetype": "text/x-python",
   "name": "python",
   "nbconvert_exporter": "python",
   "pygments_lexer": "ipython3",
   "version": "3.8.10"
  }
 },
 "nbformat": 4,
 "nbformat_minor": 5
}
