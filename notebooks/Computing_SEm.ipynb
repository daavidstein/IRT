{
 "cells": [
  {
   "cell_type": "code",
   "execution_count": 93,
   "id": "62b000f9-0bf7-4cab-ac9c-c6684cd42c04",
   "metadata": {},
   "outputs": [],
   "source": [
    "import pandas as pd\n",
    "import numpy as np\n",
    "from girth import twopl_jml, ability_mle, ability_map\n",
    "import sys\n",
    "from tqdm import tqdm\n",
    "from matplotlib import pyplot as plt\n",
    "sys.path.append(\"..\")\n",
    "from dirt import irf\n"
   ]
  },
  {
   "cell_type": "code",
   "execution_count": 5,
   "id": "3b10e8cf-3372-4dcc-a6c4-17059e4c69e3",
   "metadata": {},
   "outputs": [],
   "source": [
    "def construct_lsat7_dataset(path_to_csv: str = \"/home/daavid/lsat7.csv\") -> pd.DataFrame:\n",
    "    lsat7 = pd.read_csv(path_to_csv)\n",
    "    lsat7 = lsat7.drop(columns=\"Unnamed: 0\")\n",
    "    lsat7 = lsat7.rename(columns={col:col.replace(\".\",\"_\") for col in lsat7.columns})\n",
    "    lsat7.index.repeat(lsat7.freq)\n",
    "    expanded = pd.DataFrame(np.repeat(lsat7.values, lsat7.freq, axis=0),columns=lsat7.columns).drop(columns=\"freq\")\n",
    "    return expanded\n",
    "    "
   ]
  },
  {
   "cell_type": "markdown",
   "id": "3c8ebed4-c837-4962-85b5-fa4138122e6f",
   "metadata": {},
   "source": [
    "According to Lord 1984, the SEm is\n",
    "$$SEm(\\theta) =\\sqrt{\\sum^n_{i=1} P(x = 1 | \\theta = \\theta_0)\\cdot (1-P(x = 1 | \\theta = \\theta_0))}$$\n",
    "This standard error of measurement is expressed in units of # of questions correct, rather than scaled score points."
   ]
  },
  {
   "cell_type": "markdown",
   "id": "bd0f0367-f4f5-4288-9902-5f550049a8c8",
   "metadata": {},
   "source": [
    "Let's compute the SEm for each student in the Bock & Lieberman Dataset:"
   ]
  },
  {
   "cell_type": "code",
   "execution_count": 17,
   "id": "1ea3fd2b-59c1-48a8-aa65-d0312a44e9e2",
   "metadata": {},
   "outputs": [
    {
     "data": {
      "text/html": [
       "<div>\n",
       "<style scoped>\n",
       "    .dataframe tbody tr th:only-of-type {\n",
       "        vertical-align: middle;\n",
       "    }\n",
       "\n",
       "    .dataframe tbody tr th {\n",
       "        vertical-align: top;\n",
       "    }\n",
       "\n",
       "    .dataframe thead th {\n",
       "        text-align: right;\n",
       "    }\n",
       "</style>\n",
       "<table border=\"1\" class=\"dataframe\">\n",
       "  <thead>\n",
       "    <tr style=\"text-align: right;\">\n",
       "      <th></th>\n",
       "      <th>Discrimination</th>\n",
       "      <th>Difficulty</th>\n",
       "    </tr>\n",
       "  </thead>\n",
       "  <tbody>\n",
       "    <tr>\n",
       "      <th>0</th>\n",
       "      <td>0.80286</td>\n",
       "      <td>-1.202129</td>\n",
       "    </tr>\n",
       "    <tr>\n",
       "      <th>1</th>\n",
       "      <td>4.00000</td>\n",
       "      <td>0.368345</td>\n",
       "    </tr>\n",
       "    <tr>\n",
       "      <th>2</th>\n",
       "      <td>4.00000</td>\n",
       "      <td>0.058751</td>\n",
       "    </tr>\n",
       "    <tr>\n",
       "      <th>3</th>\n",
       "      <td>0.25000</td>\n",
       "      <td>1.380074</td>\n",
       "    </tr>\n",
       "    <tr>\n",
       "      <th>4</th>\n",
       "      <td>0.25000</td>\n",
       "      <td>-4.902024</td>\n",
       "    </tr>\n",
       "  </tbody>\n",
       "</table>\n",
       "</div>"
      ],
      "text/plain": [
       "   Discrimination  Difficulty\n",
       "0         0.80286   -1.202129\n",
       "1         4.00000    0.368345\n",
       "2         4.00000    0.058751\n",
       "3         0.25000    1.380074\n",
       "4         0.25000   -4.902024"
      ]
     },
     "execution_count": 17,
     "metadata": {},
     "output_type": "execute_result"
    }
   ],
   "source": [
    "pd.DataFrame(params)"
   ]
  },
  {
   "cell_type": "code",
   "execution_count": 37,
   "id": "70fabe7e-35b9-4571-8ee3-7c5ffd7007b1",
   "metadata": {},
   "outputs": [
    {
     "name": "stdout",
     "output_type": "stream",
     "text": [
      "0.802859605912795 -1.202128517766773\n",
      "4.0 0.36834539184967885\n",
      "3.9999999999995577 0.058750768050051125\n",
      "0.25000000000599 1.3800737632304878\n",
      "0.2500000000056114 -4.9020235483091446\n"
     ]
    }
   ],
   "source": [
    "item_params = pd.DataFrame(params)\n",
    "for idx,(disc,diff) in item_params.iterrows():\n",
    "    print(disc, diff)"
   ]
  },
  {
   "cell_type": "code",
   "execution_count": 11,
   "id": "9067c16b-0f2c-412d-bc18-9d1f4be8c2f6",
   "metadata": {},
   "outputs": [],
   "source": [
    "lsat7 = construct_lsat7_dataset()\n",
    "params = twopl_jml(lsat7.transpose())\n",
    "abilities = ability_map(dataset=lsat7.transpose().to_numpy(), difficulty = params[\"Difficulty\"], discrimination=params[\"Discrimination\"])\n"
   ]
  },
  {
   "cell_type": "code",
   "execution_count": 44,
   "id": "aeb327c8-45fb-41fc-8629-f142ef6ba0f5",
   "metadata": {},
   "outputs": [],
   "source": [
    "def sem_from_ability(ability: float, item_params: pd.DataFrame) -> float:\n",
    "    \"\"\"Given an ability score, compute the standard error of measurement at that ability using the IRT method given in Frederic M. Lord's 1984 paper\n",
    "    Args: \n",
    "       ability: theta from the irt model\n",
    "       item_params: a dataframe with columns called \"Discrimination\" and \"Difficulty\" containing the fitted item parameters\n",
    "    \"\"\"\n",
    "    variances = list()\n",
    "    assert list(item_params.columns) == [\"Discrimination\", \"Difficulty\"]\n",
    "    for idx,(disc,diff) in item_params.iterrows():\n",
    "        prob_success = irf(ability=ability, disc =disc, diff= diff)\n",
    "        variance = prob_success*(1-prob_success)\n",
    "        variances.append(variance)\n",
    "    return np.sqrt(np.sum(variances))\n"
   ]
  },
  {
   "cell_type": "code",
   "execution_count": 45,
   "id": "a05f2fa9-7a5b-4a86-b617-6bd4a8172049",
   "metadata": {},
   "outputs": [
    {
     "data": {
      "text/plain": [
       "1.0080522888821313"
      ]
     },
     "execution_count": 45,
     "metadata": {},
     "output_type": "execute_result"
    }
   ],
   "source": [
    "sem_from_ability(ability=0, item_params=item_params)"
   ]
  },
  {
   "cell_type": "code",
   "execution_count": 52,
   "id": "0ce810f7-09a3-463b-8215-fa58aa8caf6a",
   "metadata": {},
   "outputs": [],
   "source": [
    "sems = [sem_from_ability(theta,item_params) for theta in abilities]"
   ]
  },
  {
   "cell_type": "code",
   "execution_count": 55,
   "id": "2ce0e960-b188-4355-8bd0-ba15ab910ee1",
   "metadata": {},
   "outputs": [
    {
     "data": {
      "text/plain": [
       "0.9011392149224411"
      ]
     },
     "execution_count": 55,
     "metadata": {},
     "output_type": "execute_result"
    }
   ],
   "source": [
    "overall_sem = np.mean(sems)\n",
    "overall_sem"
   ]
  },
  {
   "cell_type": "code",
   "execution_count": 57,
   "id": "3c1caa25-8d1d-4704-8a8a-33f55a04e948",
   "metadata": {},
   "outputs": [
    {
     "data": {
      "text/plain": [
       "(array([308., 200.,  32.,  78.,  65.,   7.,   0.,   0.,   0., 310.]),\n",
       " array([0.81721405, 0.83823124, 0.85924843, 0.88026563, 0.90128282,\n",
       "        0.92230001, 0.9433172 , 0.96433439, 0.98535158, 1.00636878,\n",
       "        1.02738597]),\n",
       " <BarContainer object of 10 artists>)"
      ]
     },
     "execution_count": 57,
     "metadata": {},
     "output_type": "execute_result"
    },
    {
     "data": {
      "image/png": "[encoded data removed]",
      "text/plain": [
       "<Figure size 640x480 with 1 Axes>"
      ]
     },
     "metadata": {},
     "output_type": "display_data"
    }
   ],
   "source": [
    "plt.hist(sems)"
   ]
  },
  {
   "cell_type": "code",
   "execution_count": 58,
   "id": "b3bcf7dc-8c83-4442-8f44-6aa58e66a3d8",
   "metadata": {},
   "outputs": [],
   "source": [
    "unique_abilities = set(abilities)"
   ]
  },
  {
   "cell_type": "code",
   "execution_count": 60,
   "id": "a3dbb451-2d70-4a23-a14c-597bb73df5a3",
   "metadata": {},
   "outputs": [],
   "source": [
    "unique_sems = [sem_from_ability(th,item_params) for th in unique_abilities]"
   ]
  },
  {
   "cell_type": "code",
   "execution_count": 65,
   "id": "00429bed-0f3d-4b87-a800-ee0059d4ebf4",
   "metadata": {},
   "outputs": [
    {
     "data": {
      "text/plain": [
       "32"
      ]
     },
     "execution_count": 65,
     "metadata": {},
     "output_type": "execute_result"
    }
   ],
   "source": [
    "len(unique_abilities)"
   ]
  },
  {
   "cell_type": "code",
   "execution_count": 66,
   "id": "0aa33e2d-2c08-4747-b0b2-0cb5bd60fb9f",
   "metadata": {},
   "outputs": [
    {
     "data": {
      "text/plain": [
       "32"
      ]
     },
     "execution_count": 66,
     "metadata": {},
     "output_type": "execute_result"
    }
   ],
   "source": [
    "len(unique_sems)"
   ]
  },
  {
   "cell_type": "code",
   "execution_count": 69,
   "id": "9574471f-acb5-49a5-b6a1-e9392756192c",
   "metadata": {},
   "outputs": [
    {
     "data": {
      "text/plain": [
       "Text(0, 0.5, 'SEm(Theta)')"
      ]
     },
     "execution_count": 69,
     "metadata": {},
     "output_type": "execute_result"
    },
    {
     "data": {
      "image/png": "[encoded data removed]",
      "text/plain": [
       "<Figure size 640x480 with 1 Axes>"
      ]
     },
     "metadata": {},
     "output_type": "display_data"
    }
   ],
   "source": [
    "plt.scatter(x=list(unique_abilities),y=unique_sems)\n",
    "plt.title(\"Theta vs SEm(Theta)\")\n",
    "plt.xlabel(\"Theta\")\n",
    "plt.ylabel(\"SEm(Theta)\")"
   ]
  },
  {
   "cell_type": "markdown",
   "id": "384f1432-770c-4500-9ac4-b1dbaef46335",
   "metadata": {},
   "source": [
    "Let's verify this by constructing the standard error of of the number of correct questions by using the bootstrap. We just constuct the bootstrap sampling distribution and then take the standard deviation"
   ]
  },
  {
   "cell_type": "code",
   "execution_count": 71,
   "id": "a9a59cdd-0d01-4ace-878e-bd0296e96f6e",
   "metadata": {},
   "outputs": [
    {
     "data": {
      "text/plain": [
       "array([75, 15, 42, 61, 69, 70, 89,  3, 29, 13])"
      ]
     },
     "execution_count": 71,
     "metadata": {},
     "output_type": "execute_result"
    }
   ],
   "source": [
    "np.random.choice(range(100),size=10)"
   ]
  },
  {
   "cell_type": "code",
   "execution_count": 72,
   "id": "467951e2-8bb3-41ad-a60a-14c6a74b6579",
   "metadata": {},
   "outputs": [
    {
     "data": {
      "text/html": [
       "<div>\n",
       "<style scoped>\n",
       "    .dataframe tbody tr th:only-of-type {\n",
       "        vertical-align: middle;\n",
       "    }\n",
       "\n",
       "    .dataframe tbody tr th {\n",
       "        vertical-align: top;\n",
       "    }\n",
       "\n",
       "    .dataframe thead th {\n",
       "        text-align: right;\n",
       "    }\n",
       "</style>\n",
       "<table border=\"1\" class=\"dataframe\">\n",
       "  <thead>\n",
       "    <tr style=\"text-align: right;\">\n",
       "      <th></th>\n",
       "      <th>Item_1</th>\n",
       "      <th>Item_2</th>\n",
       "      <th>Item_3</th>\n",
       "      <th>Item_4</th>\n",
       "      <th>Item_5</th>\n",
       "    </tr>\n",
       "  </thead>\n",
       "  <tbody>\n",
       "    <tr>\n",
       "      <th>0</th>\n",
       "      <td>0</td>\n",
       "      <td>0</td>\n",
       "      <td>0</td>\n",
       "      <td>0</td>\n",
       "      <td>0</td>\n",
       "    </tr>\n",
       "    <tr>\n",
       "      <th>1</th>\n",
       "      <td>0</td>\n",
       "      <td>0</td>\n",
       "      <td>0</td>\n",
       "      <td>0</td>\n",
       "      <td>0</td>\n",
       "    </tr>\n",
       "    <tr>\n",
       "      <th>2</th>\n",
       "      <td>0</td>\n",
       "      <td>0</td>\n",
       "      <td>0</td>\n",
       "      <td>0</td>\n",
       "      <td>0</td>\n",
       "    </tr>\n",
       "    <tr>\n",
       "      <th>3</th>\n",
       "      <td>0</td>\n",
       "      <td>0</td>\n",
       "      <td>0</td>\n",
       "      <td>0</td>\n",
       "      <td>0</td>\n",
       "    </tr>\n",
       "    <tr>\n",
       "      <th>4</th>\n",
       "      <td>0</td>\n",
       "      <td>0</td>\n",
       "      <td>0</td>\n",
       "      <td>0</td>\n",
       "      <td>0</td>\n",
       "    </tr>\n",
       "    <tr>\n",
       "      <th>...</th>\n",
       "      <td>...</td>\n",
       "      <td>...</td>\n",
       "      <td>...</td>\n",
       "      <td>...</td>\n",
       "      <td>...</td>\n",
       "    </tr>\n",
       "    <tr>\n",
       "      <th>995</th>\n",
       "      <td>1</td>\n",
       "      <td>1</td>\n",
       "      <td>1</td>\n",
       "      <td>1</td>\n",
       "      <td>1</td>\n",
       "    </tr>\n",
       "    <tr>\n",
       "      <th>996</th>\n",
       "      <td>1</td>\n",
       "      <td>1</td>\n",
       "      <td>1</td>\n",
       "      <td>1</td>\n",
       "      <td>1</td>\n",
       "    </tr>\n",
       "    <tr>\n",
       "      <th>997</th>\n",
       "      <td>1</td>\n",
       "      <td>1</td>\n",
       "      <td>1</td>\n",
       "      <td>1</td>\n",
       "      <td>1</td>\n",
       "    </tr>\n",
       "    <tr>\n",
       "      <th>998</th>\n",
       "      <td>1</td>\n",
       "      <td>1</td>\n",
       "      <td>1</td>\n",
       "      <td>1</td>\n",
       "      <td>1</td>\n",
       "    </tr>\n",
       "    <tr>\n",
       "      <th>999</th>\n",
       "      <td>1</td>\n",
       "      <td>1</td>\n",
       "      <td>1</td>\n",
       "      <td>1</td>\n",
       "      <td>1</td>\n",
       "    </tr>\n",
       "  </tbody>\n",
       "</table>\n",
       "<p>1000 rows × 5 columns</p>\n",
       "</div>"
      ],
      "text/plain": [
       "     Item_1  Item_2  Item_3  Item_4  Item_5\n",
       "0         0       0       0       0       0\n",
       "1         0       0       0       0       0\n",
       "2         0       0       0       0       0\n",
       "3         0       0       0       0       0\n",
       "4         0       0       0       0       0\n",
       "..      ...     ...     ...     ...     ...\n",
       "995       1       1       1       1       1\n",
       "996       1       1       1       1       1\n",
       "997       1       1       1       1       1\n",
       "998       1       1       1       1       1\n",
       "999       1       1       1       1       1\n",
       "\n",
       "[1000 rows x 5 columns]"
      ]
     },
     "execution_count": 72,
     "metadata": {},
     "output_type": "execute_result"
    }
   ],
   "source": [
    "lsat7"
   ]
  },
  {
   "cell_type": "code",
   "execution_count": 92,
   "id": "b44f97e5-c8d8-434f-a25a-d8733ce2d7c6",
   "metadata": {},
   "outputs": [],
   "source": [
    "unique_responses = list(map(list,lsat7.drop_duplicates().to_numpy()))"
   ]
  },
  {
   "cell_type": "code",
   "execution_count": 117,
   "id": "8aa4f3d8-c649-4520-b846-9ad226948dec",
   "metadata": {},
   "outputs": [
    {
     "data": {
      "text/plain": [
       "[[0, 0, 0, 0, 0],\n",
       " [0, 0, 0, 0, 1],\n",
       " [0, 0, 0, 1, 0],\n",
       " [0, 0, 0, 1, 1],\n",
       " [0, 0, 1, 0, 0],\n",
       " [0, 0, 1, 0, 1],\n",
       " [0, 0, 1, 1, 0],\n",
       " [0, 0, 1, 1, 1],\n",
       " [0, 1, 0, 0, 0],\n",
       " [0, 1, 0, 0, 1],\n",
       " [0, 1, 0, 1, 0],\n",
       " [0, 1, 0, 1, 1],\n",
       " [0, 1, 1, 0, 0],\n",
       " [0, 1, 1, 0, 1],\n",
       " [0, 1, 1, 1, 0],\n",
       " [0, 1, 1, 1, 1],\n",
       " [1, 0, 0, 0, 0],\n",
       " [1, 0, 0, 0, 1],\n",
       " [1, 0, 0, 1, 0],\n",
       " [1, 0, 0, 1, 1],\n",
       " [1, 0, 1, 0, 0],\n",
       " [1, 0, 1, 0, 1],\n",
       " [1, 0, 1, 1, 0],\n",
       " [1, 0, 1, 1, 1],\n",
       " [1, 1, 0, 0, 0],\n",
       " [1, 1, 0, 0, 1],\n",
       " [1, 1, 0, 1, 0],\n",
       " [1, 1, 0, 1, 1],\n",
       " [1, 1, 1, 0, 0],\n",
       " [1, 1, 1, 0, 1],\n",
       " [1, 1, 1, 1, 0],\n",
       " [1, 1, 1, 1, 1]]"
      ]
     },
     "execution_count": 117,
     "metadata": {},
     "output_type": "execute_result"
    }
   ],
   "source": [
    "unique_responses"
   ]
  },
  {
   "cell_type": "code",
   "execution_count": 94,
   "id": "8fb4faa0-60ea-4178-9451-6c0e665aff75",
   "metadata": {},
   "outputs": [
    {
     "name": "stderr",
     "output_type": "stream",
     "text": [
      "response vector: 100%|███████████████████████████████████████████████████████████████████████████████████████████████████████████████████| 32/32 [00:51<00:00,  1.61s/it]\n"
     ]
    }
   ],
   "source": [
    "SEm_theta_from_bootstrap = list()\n",
    "for student_resp in tqdm(unique_responses, \"response vector\"):\n",
    "    sample_n_correct = [sum(np.random.choice(student_resp,size=5,replace=True)) for _ in range(100_000)]\n",
    "    SEm_theta = np.std(sample_n_correct)\n",
    "    SEm_theta_from_bootstrap.append(SEm_theta)\n",
    "    \n",
    "    "
   ]
  },
  {
   "cell_type": "markdown",
   "id": "6f9bd077-f297-422a-98c2-936ffcfdaecb",
   "metadata": {},
   "source": [
    "The mean $SEm(\\theta)$ we got from bootstrapping is pretty close to the one we got from the IRT method:"
   ]
  },
  {
   "cell_type": "code",
   "execution_count": 96,
   "id": "61d37481-ea5b-4f2c-9da9-4914186b34a6",
   "metadata": {},
   "outputs": [
    {
     "data": {
      "text/plain": [
       "0.9645632059792053"
      ]
     },
     "execution_count": 96,
     "metadata": {},
     "output_type": "execute_result"
    }
   ],
   "source": [
    "np.mean(SEm_theta_from_bootstrap)"
   ]
  },
  {
   "cell_type": "markdown",
   "id": "41c9d088-b252-4d0a-9344-71ecd48d8de0",
   "metadata": {},
   "source": [
    "__Q__: instead of taking the mean of the 32 SEm's corresponding to the unique responses, shouldn't we replicate the original responses according to the frequencies in the original dataset, and then take the mean to find the overall SEm?\n",
    "\n",
    "__A__: No, because the SEm corresponds to a given ability level. If we were to replicate those responses, we would be counting some ability levels more than others. To get the overall SEm we want the same contribution from each ability level"
   ]
  },
  {
   "cell_type": "code",
   "execution_count": null,
   "id": "d027a635-4366-4523-b89c-af936da25494",
   "metadata": {},
   "outputs": [],
   "source": []
  }
 ],
 "metadata": {
  "kernelspec": {
   "display_name": "Python 3 (ipykernel)",
   "language": "python",
   "name": "python3"
  },
  "language_info": {
   "codemirror_mode": {
    "name": "ipython",
    "version": 3
   },
   "file_extension": ".py",
   "mimetype": "text/x-python",
   "name": "python",
   "nbconvert_exporter": "python",
   "pygments_lexer": "ipython3",
   "version": "3.8.10"
  }
 },
 "nbformat": 4,
 "nbformat_minor": 5
}
